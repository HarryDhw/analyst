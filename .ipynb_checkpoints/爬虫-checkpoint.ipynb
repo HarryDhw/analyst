{
 "cells": [
  {
   "cell_type": "code",
   "execution_count": 1,
   "id": "48f22ebb",
   "metadata": {},
   "outputs": [],
   "source": [
    "import requests\n",
    "from bs4 import BeautifulSoup\n",
    "import time\n",
    "import re"
   ]
  },
  {
   "cell_type": "code",
   "execution_count": 36,
   "id": "75e437e9",
   "metadata": {},
   "outputs": [],
   "source": [
    "url = ['https://www.kugou.com/yy/rank/home/{}-8888.html?from=homepage'.format(n) for n in range(1,24)]\n",
    "headers = {\"user-agent\":\"Mozilla/5.0 (Windows NT 10.0; Win64; x64) AppleWebKit/537.36 (KHTML, like Gecko) Chrome/110.0.0.0 Safari/537.36\"}\n",
    "\n"
   ]
  },
  {
   "cell_type": "code",
   "execution_count": 31,
   "id": "ef181692",
   "metadata": {},
   "outputs": [
    {
     "data": {
      "text/plain": [
       "['李荣浩 ', ' 乌梅子酱']"
      ]
     },
     "execution_count": 31,
     "metadata": {},
     "output_type": "execute_result"
    }
   ],
   "source": [
    "na = soup.select('#rankWrap > div.pc_temp_songlist > ul > li > a')\n",
    "na[0].get('title').split('-')"
   ]
  },
  {
   "cell_type": "code",
   "execution_count": 23,
   "id": "4ecf48e6",
   "metadata": {},
   "outputs": [
    {
     "data": {
      "text/plain": [
       "'3:38'"
      ]
     },
     "execution_count": 23,
     "metadata": {},
     "output_type": "execute_result"
    }
   ],
   "source": [
    "ti = soup.select('#rankWrap > div.pc_temp_songlist > ul > li > span.pc_temp_tips_r > span')\n",
    "ti[1].get_text().strip('\\n\\t')"
   ]
  },
  {
   "cell_type": "code",
   "execution_count": 33,
   "id": "03cc3ab1",
   "metadata": {},
   "outputs": [],
   "source": [
    "def get_info(url):\n",
    "    data = requests.get(url, headers=headers)\n",
    "    soup = BeautifulSoup(data.text, 'lxml')\n",
    "    title = soup.select('#rankWrap > div.pc_temp_songlist > ul > li > a')\n",
    "    tim = soup.select('#rankWrap > div.pc_temp_songlist > ul > li > span.pc_temp_tips_r > span')\n",
    "    t = [i.get_text().strip('\\n\\t') for i in tim]\n",
    "    geshou = [i.get('title').split('-')[0] for i in title]\n",
    "    gequ = [i.get('title').split('-')[1] for i in title]\n",
    "    for a,b,c in zip(geshou,gequ,t):\n",
    "        aunter.append(a)\n",
    "        music.append(b)\n",
    "        long.append(c)"
   ]
  },
  {
   "cell_type": "code",
   "execution_count": 37,
   "id": "cc1a3757",
   "metadata": {},
   "outputs": [
    {
     "name": "stdout",
     "output_type": "stream",
     "text": [
      "please sleep 5 minutes!\n"
     ]
    }
   ],
   "source": [
    "aunter = []\n",
    "music = []\n",
    "long = []\n",
    "for i in url:\n",
    "    try:\n",
    "        get_info(i)\n",
    "    except:\n",
    "        print('please sleep 5 minutes!')\n",
    "        time.sleep(5)\n",
    "        continue"
   ]
  },
  {
   "cell_type": "code",
   "execution_count": 44,
   "id": "4730743b",
   "metadata": {},
   "outputs": [
    {
     "data": {
      "text/plain": [
       "['李荣浩 ', '程响 ', '付豪 ']"
      ]
     },
     "execution_count": 44,
     "metadata": {},
     "output_type": "execute_result"
    }
   ],
   "source": [
    "aunter[:3]"
   ]
  },
  {
   "cell_type": "code",
   "execution_count": 43,
   "id": "4d7c6c7d",
   "metadata": {},
   "outputs": [
    {
     "data": {
      "text/plain": [
       "[' 乌梅子酱', ' 可能', ' 需要人陪']"
      ]
     },
     "execution_count": 43,
     "metadata": {},
     "output_type": "execute_result"
    }
   ],
   "source": [
    "music[:3]"
   ]
  },
  {
   "cell_type": "code",
   "execution_count": 42,
   "id": "df5ed6b1",
   "metadata": {},
   "outputs": [
    {
     "data": {
      "text/plain": [
       "['4:17', '3:38', '3:14']"
      ]
     },
     "execution_count": 42,
     "metadata": {},
     "output_type": "execute_result"
    }
   ],
   "source": [
    "long[:3]"
   ]
  },
  {
   "cell_type": "code",
   "execution_count": 41,
   "id": "c41273cb",
   "metadata": {},
   "outputs": [],
   "source": [
    "import pandas as pd"
   ]
  },
  {
   "cell_type": "code",
   "execution_count": 45,
   "id": "f2617f3f",
   "metadata": {},
   "outputs": [],
   "source": [
    "df = pd.DataFrame(data={'歌手':aunter, '歌曲':music, '时间':long})"
   ]
  },
  {
   "cell_type": "code",
   "execution_count": 46,
   "id": "3241d6a0",
   "metadata": {},
   "outputs": [
    {
     "data": {
      "text/html": [
       "<div>\n",
       "<style scoped>\n",
       "    .dataframe tbody tr th:only-of-type {\n",
       "        vertical-align: middle;\n",
       "    }\n",
       "\n",
       "    .dataframe tbody tr th {\n",
       "        vertical-align: top;\n",
       "    }\n",
       "\n",
       "    .dataframe thead th {\n",
       "        text-align: right;\n",
       "    }\n",
       "</style>\n",
       "<table border=\"1\" class=\"dataframe\">\n",
       "  <thead>\n",
       "    <tr style=\"text-align: right;\">\n",
       "      <th></th>\n",
       "      <th>歌手</th>\n",
       "      <th>歌曲</th>\n",
       "      <th>时间</th>\n",
       "    </tr>\n",
       "  </thead>\n",
       "  <tbody>\n",
       "    <tr>\n",
       "      <th>207</th>\n",
       "      <td>张芸京</td>\n",
       "      <td>偏爱</td>\n",
       "      <td>3:32</td>\n",
       "    </tr>\n",
       "    <tr>\n",
       "      <th>197</th>\n",
       "      <td>温奕心</td>\n",
       "      <td>一路生花</td>\n",
       "      <td>4:16</td>\n",
       "    </tr>\n",
       "    <tr>\n",
       "      <th>416</th>\n",
       "      <td>Bbx、Tony T、Alba Kras</td>\n",
       "      <td>Crazy (Radio Edit)</td>\n",
       "      <td>3:20</td>\n",
       "    </tr>\n",
       "    <tr>\n",
       "      <th>83</th>\n",
       "      <td>林俊杰</td>\n",
       "      <td>达尔文</td>\n",
       "      <td>4:06</td>\n",
       "    </tr>\n",
       "    <tr>\n",
       "      <th>316</th>\n",
       "      <td>张磊</td>\n",
       "      <td>暖人</td>\n",
       "      <td>4:47</td>\n",
       "    </tr>\n",
       "    <tr>\n",
       "      <th>168</th>\n",
       "      <td>娜依</td>\n",
       "      <td>失控的心</td>\n",
       "      <td>3:00</td>\n",
       "    </tr>\n",
       "    <tr>\n",
       "      <th>222</th>\n",
       "      <td>李乐乐</td>\n",
       "      <td>遗憾的过客</td>\n",
       "      <td>3:44</td>\n",
       "    </tr>\n",
       "    <tr>\n",
       "      <th>143</th>\n",
       "      <td>Dion Timmer、The Arcturians</td>\n",
       "      <td>The Best Of Me</td>\n",
       "      <td>4:33</td>\n",
       "    </tr>\n",
       "    <tr>\n",
       "      <th>314</th>\n",
       "      <td>王杰</td>\n",
       "      <td>谁明浪子心</td>\n",
       "      <td>5:02</td>\n",
       "    </tr>\n",
       "    <tr>\n",
       "      <th>68</th>\n",
       "      <td>程今</td>\n",
       "      <td>安道尔的夜</td>\n",
       "      <td>3:35</td>\n",
       "    </tr>\n",
       "    <tr>\n",
       "      <th>86</th>\n",
       "      <td>苏谭谭</td>\n",
       "      <td>一半疯了一半算了</td>\n",
       "      <td>4:09</td>\n",
       "    </tr>\n",
       "    <tr>\n",
       "      <th>445</th>\n",
       "      <td>EXO</td>\n",
       "      <td>지나갈 테니 (Been Through)</td>\n",
       "      <td>3:38</td>\n",
       "    </tr>\n",
       "    <tr>\n",
       "      <th>350</th>\n",
       "      <td>陈歌</td>\n",
       "      <td>早安隆回 (女版)</td>\n",
       "      <td>4:29</td>\n",
       "    </tr>\n",
       "    <tr>\n",
       "      <th>269</th>\n",
       "      <td>周杰伦</td>\n",
       "      <td>最长的电影</td>\n",
       "      <td>3:55</td>\n",
       "    </tr>\n",
       "    <tr>\n",
       "      <th>275</th>\n",
       "      <td>The Marías</td>\n",
       "      <td>Hush</td>\n",
       "      <td>3:01</td>\n",
       "    </tr>\n",
       "    <tr>\n",
       "      <th>236</th>\n",
       "      <td>梁咏琪、王大陆</td>\n",
       "      <td>许愿 (Live)</td>\n",
       "      <td>4:33</td>\n",
       "    </tr>\n",
       "    <tr>\n",
       "      <th>111</th>\n",
       "      <td>戴羽彤</td>\n",
       "      <td>骗子</td>\n",
       "      <td>3:33</td>\n",
       "    </tr>\n",
       "    <tr>\n",
       "      <th>318</th>\n",
       "      <td>Slushii</td>\n",
       "      <td>Past Lives</td>\n",
       "      <td>2:33</td>\n",
       "    </tr>\n",
       "    <tr>\n",
       "      <th>41</th>\n",
       "      <td>烟(许佳豪)</td>\n",
       "      <td>再见我的女孩</td>\n",
       "      <td>3:19</td>\n",
       "    </tr>\n",
       "    <tr>\n",
       "      <th>301</th>\n",
       "      <td>胜屿</td>\n",
       "      <td>难得有情人</td>\n",
       "      <td>3:39</td>\n",
       "    </tr>\n",
       "  </tbody>\n",
       "</table>\n",
       "</div>"
      ],
      "text/plain": [
       "                              歌手                      歌曲    时间\n",
       "207                         张芸京                       偏爱  3:32\n",
       "197                         温奕心                     一路生花  4:16\n",
       "416        Bbx、Tony T、Alba Kras       Crazy (Radio Edit)  3:20\n",
       "83                          林俊杰                      达尔文  4:06\n",
       "316                          张磊                       暖人  4:47\n",
       "168                          娜依                     失控的心  3:00\n",
       "222                         李乐乐                    遗憾的过客  3:44\n",
       "143  Dion Timmer、The Arcturians           The Best Of Me  4:33\n",
       "314                          王杰                    谁明浪子心  5:02\n",
       "68                           程今                    安道尔的夜  3:35\n",
       "86                          苏谭谭                 一半疯了一半算了  4:09\n",
       "445                         EXO    지나갈 테니 (Been Through)  3:38\n",
       "350                          陈歌                早安隆回 (女版)  4:29\n",
       "269                         周杰伦                    最长的电影  3:55\n",
       "275                  The Marías                     Hush  3:01\n",
       "236                     梁咏琪、王大陆                许愿 (Live)  4:33\n",
       "111                         戴羽彤                       骗子  3:33\n",
       "318                     Slushii               Past Lives  2:33\n",
       "41                       烟(许佳豪)                   再见我的女孩  3:19\n",
       "301                          胜屿                    难得有情人  3:39"
      ]
     },
     "execution_count": 46,
     "metadata": {},
     "output_type": "execute_result"
    }
   ],
   "source": [
    "df.sample(20)"
   ]
  },
  {
   "cell_type": "code",
   "execution_count": null,
   "id": "5af0b199",
   "metadata": {},
   "outputs": [],
   "source": []
  }
 ],
 "metadata": {
  "kernelspec": {
   "display_name": "Python 3 (ipykernel)",
   "language": "python",
   "name": "python3"
  },
  "language_info": {
   "codemirror_mode": {
    "name": "ipython",
    "version": 3
   },
   "file_extension": ".py",
   "mimetype": "text/x-python",
   "name": "python",
   "nbconvert_exporter": "python",
   "pygments_lexer": "ipython3",
   "version": "3.9.12"
  }
 },
 "nbformat": 4,
 "nbformat_minor": 5
}
