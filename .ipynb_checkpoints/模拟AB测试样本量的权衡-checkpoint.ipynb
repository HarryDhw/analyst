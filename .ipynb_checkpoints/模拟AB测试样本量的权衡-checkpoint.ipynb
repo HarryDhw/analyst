{
 "cells": [
  {
   "cell_type": "markdown",
   "id": "0610187f",
   "metadata": {},
   "source": [
    "# 在进行AB测试之前如何选择样本量\n",
    "## 1. 测试的显著值等于误报率，显著值越高误报率越高。\n",
    "## 2. 增加样本量可以让预测更准确，但是需要付出更大的采集成本。\n",
    "## 3. 检测两个变量之间的差异性越小，需要的样本量更大。\n",
    "### 实验：假设一个购物网站要对两种样式的邮件进行是否打开测试，看看哪个打开次数更多？通过这个实验\n",
    "### 我们来权衡以上三个条件，并且选择多少样本量合适。"
   ]
  },
  {
   "cell_type": "code",
   "execution_count": 14,
   "id": "420631a3",
   "metadata": {},
   "outputs": [],
   "source": [
    "import pandas as pd\n",
    "import numpy as np\n",
    "from scipy.stats import chi2_contingency"
   ]
  },
  {
   "cell_type": "markdown",
   "id": "80e5bab4",
   "metadata": {},
   "source": [
    "### 首先，创建好实验所需的变量"
   ]
  },
  {
   "cell_type": "code",
   "execution_count": 42,
   "id": "5bfe40c8",
   "metadata": {},
   "outputs": [],
   "source": [
    "样本量 = 800\n",
    "显著值 = 0.05\n",
    "邮件A = 0.5\n",
    "邮件B = 0.6\n",
    "最小差异 = round((邮件B - 邮件A)/邮件A, 2)"
   ]
  },
  {
   "cell_type": "markdown",
   "id": "1700a6d5",
   "metadata": {},
   "source": [
    "### 编写程序代码"
   ]
  },
  {
   "cell_type": "code",
   "execution_count": 45,
   "id": "a71d4f38",
   "metadata": {},
   "outputs": [
    {
     "name": "stdout",
     "output_type": "stream",
     "text": [
      "样本量为800,显著值为0.05,最小差异为0.2的情况下,有显著性结果的比例:\n",
      "0.8\n"
     ]
    }
   ],
   "source": [
    "results = []\n",
    "for i in range(100):\n",
    "    lista = np.random.choice(['yes', 'no'], size=int(样本量/2), p=[邮件A, 1-邮件A])\n",
    "    listb = np.random.choice(['yes', 'no'], size=int(样本量/2), p=[邮件B, 1-邮件B])\n",
    "    email_name = ['email_a'] * int(样本量/2) + ['email_b'] * int(样本量/2)\n",
    "    email_choice = list(lista) + list(listb)\n",
    "    data = {'Email':email_name, 'Is_open':email_choice}\n",
    "    data = pd.DataFrame(data)\n",
    "    # 创建列联表\n",
    "    ab_table = pd.crosstab(np.array(data.Email), np.array(data['Is_open']))\n",
    "    chi2,pval,dof,expected = chi2_contingency(ab_table)\n",
    "    result = ('有显著性' if pval < 显著值 else '没显著性')\n",
    "    results.append(result)\n",
    "# 打印结果\n",
    "results = np.array(results)\n",
    "print(f'样本量为{样本量},显著值为{显著值},最小差异为{最小差异}的情况下,有显著性结果的比例:')\n",
    "print(np.sum(results == '有显著性') / 100)"
   ]
  },
  {
   "cell_type": "markdown",
   "id": "2264ab9b",
   "metadata": {},
   "source": [
    "### 如果检测结果确实存在显著性，大多数计算机计算有效性的比例为80%。\n",
    "### 上述实验样本量为800的情况下有效性在80%左右。"
   ]
  },
  {
   "cell_type": "code",
   "execution_count": null,
   "id": "eb885e9f",
   "metadata": {},
   "outputs": [],
   "source": []
  }
 ],
 "metadata": {
  "kernelspec": {
   "display_name": "Python 3 (ipykernel)",
   "language": "python",
   "name": "python3"
  },
  "language_info": {
   "codemirror_mode": {
    "name": "ipython",
    "version": 3
   },
   "file_extension": ".py",
   "mimetype": "text/x-python",
   "name": "python",
   "nbconvert_exporter": "python",
   "pygments_lexer": "ipython3",
   "version": "3.9.12"
  }
 },
 "nbformat": 4,
 "nbformat_minor": 5
}
