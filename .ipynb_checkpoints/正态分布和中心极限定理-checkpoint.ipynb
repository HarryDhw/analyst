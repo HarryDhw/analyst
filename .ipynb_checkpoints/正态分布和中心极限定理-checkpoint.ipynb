{
 "cells": [
  {
   "cell_type": "code",
   "execution_count": 19,
   "id": "806f45a7",
   "metadata": {},
   "outputs": [],
   "source": [
    "import numpy as np"
   ]
  },
  {
   "cell_type": "code",
   "execution_count": 20,
   "id": "764cf2c7",
   "metadata": {},
   "outputs": [],
   "source": [
    "population = np.random.normal(10, 2, 10000)"
   ]
  },
  {
   "cell_type": "code",
   "execution_count": 21,
   "id": "a6bec088",
   "metadata": {},
   "outputs": [],
   "source": [
    "import matplotlib.pyplot as plt"
   ]
  },
  {
   "cell_type": "code",
   "execution_count": 25,
   "id": "83e009b9",
   "metadata": {},
   "outputs": [
    {
     "data": {
      "text/plain": [
       "(array([   3.,    8.,   28.,   90.,  176.,  362.,  634.,  932., 1242.,\n",
       "        1471., 1471., 1291.,  947.,  607.,  394.,  198.,  104.,   26.,\n",
       "          14.,    2.]),\n",
       " array([ 2.45600236,  3.20672038,  3.95743841,  4.70815643,  5.45887446,\n",
       "         6.20959248,  6.9603105 ,  7.71102853,  8.46174655,  9.21246458,\n",
       "         9.9631826 , 10.71390062, 11.46461865, 12.21533667, 12.96605469,\n",
       "        13.71677272, 14.46749074, 15.21820877, 15.96892679, 16.71964481,\n",
       "        17.47036284]),\n",
       " <BarContainer object of 20 artists>)"
      ]
     },
     "execution_count": 25,
     "metadata": {},
     "output_type": "execute_result"
    },
    {
     "data": {
      "image/png": "[encoded data removed]",
      "text/plain": [
       "<Figure size 432x288 with 1 Axes>"
      ]
     },
     "metadata": {
      "needs_background": "light"
     },
     "output_type": "display_data"
    }
   ],
   "source": [
    "plt.hist(population, bins=20)"
   ]
  },
  {
   "cell_type": "code",
   "execution_count": 26,
   "id": "5308fb36",
   "metadata": {},
   "outputs": [
    {
     "data": {
      "text/plain": [
       "9.991269897305173"
      ]
     },
     "execution_count": 26,
     "metadata": {},
     "output_type": "execute_result"
    }
   ],
   "source": [
    "np.mean(population)"
   ]
  },
  {
   "cell_type": "code",
   "execution_count": 27,
   "id": "67203817",
   "metadata": {},
   "outputs": [
    {
     "data": {
      "text/plain": [
       "2.0202598265736573"
      ]
     },
     "execution_count": 27,
     "metadata": {},
     "output_type": "execute_result"
    }
   ],
   "source": [
    "np.std(population)"
   ]
  },
  {
   "cell_type": "code",
   "execution_count": 28,
   "id": "580115fc",
   "metadata": {},
   "outputs": [],
   "source": [
    "sample = np.random.choice(population, 100, replace=False)"
   ]
  },
  {
   "cell_type": "code",
   "execution_count": 29,
   "id": "96148521",
   "metadata": {},
   "outputs": [
    {
     "data": {
      "text/plain": [
       "9.829780187665406"
      ]
     },
     "execution_count": 29,
     "metadata": {},
     "output_type": "execute_result"
    }
   ],
   "source": [
    "np.mean(sample)"
   ]
  },
  {
   "cell_type": "code",
   "execution_count": 30,
   "id": "3fa987f3",
   "metadata": {},
   "outputs": [
    {
     "data": {
      "text/plain": [
       "2.0055870215088936"
      ]
     },
     "execution_count": 30,
     "metadata": {},
     "output_type": "execute_result"
    }
   ],
   "source": [
    "np.std(sample)"
   ]
  },
  {
   "cell_type": "code",
   "execution_count": 39,
   "id": "15e720b6",
   "metadata": {},
   "outputs": [],
   "source": [
    "samples_mean = []\n",
    "for i in range(1000):\n",
    "    sam = np.random.choice(population, 100, replace=False)\n",
    "    sam_mean = np.mean(sam)\n",
    "    samples_mean.append(sam_mean)"
   ]
  },
  {
   "cell_type": "code",
   "execution_count": 40,
   "id": "09ff8b5e",
   "metadata": {},
   "outputs": [
    {
     "data": {
      "text/plain": [
       "1000"
      ]
     },
     "execution_count": 40,
     "metadata": {},
     "output_type": "execute_result"
    }
   ],
   "source": [
    "len(samples_mean)"
   ]
  },
  {
   "cell_type": "code",
   "execution_count": 41,
   "id": "f486e5df",
   "metadata": {},
   "outputs": [
    {
     "data": {
      "text/plain": [
       "9.977207655276048"
      ]
     },
     "execution_count": 41,
     "metadata": {},
     "output_type": "execute_result"
    }
   ],
   "source": [
    "np.mean(samples_mean)"
   ]
  },
  {
   "cell_type": "code",
   "execution_count": 45,
   "id": "97ddff9c",
   "metadata": {},
   "outputs": [
    {
     "data": {
      "text/plain": [
       "0.1992694576831785"
      ]
     },
     "execution_count": 45,
     "metadata": {},
     "output_type": "execute_result"
    }
   ],
   "source": [
    "np.std(samples_mean)"
   ]
  },
  {
   "cell_type": "code",
   "execution_count": 44,
   "id": "16db483f",
   "metadata": {},
   "outputs": [
    {
     "data": {
      "text/plain": [
       "(array([ 12.,  44., 103., 176., 183., 198., 148.,  92.,  33.,  11.]),\n",
       " array([ 9.44675404,  9.55505348,  9.66335293,  9.77165237,  9.87995181,\n",
       "         9.98825126, 10.0965507 , 10.20485014, 10.31314959, 10.42144903,\n",
       "        10.52974847]),\n",
       " <BarContainer object of 10 artists>)"
      ]
     },
     "execution_count": 44,
     "metadata": {},
     "output_type": "execute_result"
    },
    {
     "data": {
      "image/png": "[encoded data removed]",
      "text/plain": [
       "<Figure size 432x288 with 1 Axes>"
      ]
     },
     "metadata": {
      "needs_background": "light"
     },
     "output_type": "display_data"
    }
   ],
   "source": [
    "plt.hist(samples_mean)"
   ]
  },
  {
   "cell_type": "code",
   "execution_count": 46,
   "id": "bb67cbf9",
   "metadata": {},
   "outputs": [
    {
     "data": {
      "text/plain": [
       "9.971817722023065"
      ]
     },
     "execution_count": 46,
     "metadata": {},
     "output_type": "execute_result"
    }
   ],
   "source": [
    "np.median(samples_mean)"
   ]
  },
  {
   "cell_type": "code",
   "execution_count": null,
   "id": "43c048de",
   "metadata": {},
   "outputs": [],
   "source": []
  }
 ],
 "metadata": {
  "kernelspec": {
   "display_name": "Python 3 (ipykernel)",
   "language": "python",
   "name": "python3"
  },
  "language_info": {
   "codemirror_mode": {
    "name": "ipython",
    "version": 3
   },
   "file_extension": ".py",
   "mimetype": "text/x-python",
   "name": "python",
   "nbconvert_exporter": "python",
   "pygments_lexer": "ipython3",
   "version": "3.9.12"
  }
 },
 "nbformat": 4,
 "nbformat_minor": 5
}
